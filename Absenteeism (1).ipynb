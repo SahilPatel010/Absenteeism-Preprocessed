{
 "cells": [
  {
   "cell_type": "code",
   "execution_count": null,
   "id": "105da27f-5a7f-4e36-95a6-6ba7c574bf69",
   "metadata": {},
   "outputs": [],
   "source": [
    "import pandas as pd\n",
    "\n",
    "import os\n",
    "print(os.getcwd(\"C:/Absenteeism\"))\n"
   ]
  },
  {
   "cell_type": "code",
   "execution_count": null,
   "id": "4a0e8ef4",
   "metadata": {},
   "outputs": [],
   "source": []
  },
  {
   "cell_type": "code",
   "execution_count": null,
   "id": "cb0278ac",
   "metadata": {},
   "outputs": [],
   "source": []
  }
 ],
 "metadata": {
  "kernelspec": {
   "display_name": "Python 3",
   "language": "python",
   "name": "python3"
  },
  "language_info": {
   "name": "python",
   "version": "3.13.5"
  }
 },
 "nbformat": 4,
 "nbformat_minor": 5
}
